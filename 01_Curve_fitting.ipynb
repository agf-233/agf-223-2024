{
 "cells": [
  {
   "cell_type": "markdown",
   "metadata": {},
   "source": [
    "#  Curve fitting\n",
    "In this example we are going to demonstrate how to do cure fitting \n",
    "\n",
    "First we do some imports"
   ]
  },
  {
   "cell_type": "code",
   "execution_count": null,
   "metadata": {},
   "outputs": [],
   "source": [
    "%matplotlib widget\n",
    "from numpy.polynomial.polynomial import polyfit, polyval\n",
    "import pandas as pd\n",
    "import numpy as np\n",
    "\n",
    "import matplotlib.pyplot as plt"
   ]
  },
  {
   "cell_type": "markdown",
   "metadata": {},
   "source": [
    "Now we define some data points that we want to fit "
   ]
  },
  {
   "cell_type": "code",
   "execution_count": null,
   "metadata": {},
   "outputs": [],
   "source": [
    "# Plotting function\n",
    "def plot_spec(im, row, c,log = True):\n",
    "    plt.figure()\n",
    "    plt.imshow(im,cmap = \"Greys_r\")\n",
    "    plt.figure()\n",
    "    imdata = np.sum(im[row-50:row+50,:],axis=0)\n",
    "    if log:\n",
    "        imdata = np.log10(imdata)\n",
    "    x = polyval(np.arange(im.shape[1]),c)\n",
    "    plt.plot(x,imdata)\n",
    "    plt.xlabel(\"Wavelength (nm)\")\n",
    "    plt.show()"
   ]
  },
  {
   "cell_type": "code",
   "execution_count": null,
   "metadata": {},
   "outputs": [],
   "source": [
    "row=460\n",
    "urlneo=\"Neon.bmp\"\n",
    "urlhydro = \"Hydrogen.bmp\"\n",
    "urlun = \"Unknown.bmp\"\n",
    "\n",
    "neo = plt.imread(urlneo)"
   ]
  },
  {
   "cell_type": "code",
   "execution_count": null,
   "metadata": {},
   "outputs": [],
   "source": [
    "plt.figure(1)\n",
    "plt.imshow(neo,cmap=\"Greys_r\")\n",
    "plt.show()\n"
   ]
  },
  {
   "cell_type": "code",
   "execution_count": null,
   "metadata": {},
   "outputs": [],
   "source": [
    "plt.figure(2)\n",
    "neodata = np.log10(np.sum(neo[row-50:row+50,:],axis=0))\n",
    "plt.plot(neodata)\n",
    "plt.xlabel(\"Wavelength (pixel) \")\n",
    "plt.show()"
   ]
  },
  {
   "cell_type": "code",
   "execution_count": null,
   "metadata": {},
   "outputs": [],
   "source": [
    "\n",
    "# Input some data, this could be done manually or from a file\n",
    "d = {'Wavelengths' : [300,486,533, 540, 585, 640, 692],\n",
    "     'Pixel':        [0,390,694, 727, 790, 878, 937]}\n",
    "# Make a pandas Dataframe\n",
    "data = pd.DataFrame(data=d )"
   ]
  },
  {
   "cell_type": "markdown",
   "metadata": {},
   "source": [
    "Plot the data"
   ]
  },
  {
   "cell_type": "code",
   "execution_count": null,
   "metadata": {},
   "outputs": [],
   "source": [
    "data.plot(x='Pixel', ylabel='Wavelength',style=['.'], legend=False)"
   ]
  },
  {
   "cell_type": "markdown",
   "metadata": {},
   "source": [
    "Now we want to fit a function to this data.\n",
    "To do that we can use for instance [polyfit](https://numpy.org/doc/stable/reference/generated/numpy.polynomial.polynomial.polyfit.html#numpy.polynomial.polynomial.polyfit)"
   ]
  },
  {
   "cell_type": "code",
   "execution_count": null,
   "metadata": {},
   "outputs": [],
   "source": [
    "deg=3\n",
    "\n",
    "c, stats = polyfit(x=data['Pixel'], y=data['Wavelengths'], deg=deg, full=True)\n",
    "#display(c,stats)"
   ]
  },
  {
   "cell_type": "markdown",
   "metadata": {},
   "source": [
    "Plot the results with the data "
   ]
  },
  {
   "cell_type": "code",
   "execution_count": null,
   "metadata": {},
   "outputs": [],
   "source": [
    "data.plot( x='Pixel',ylabel='Wavelengths',style=['.'],legend=False)\n",
    "p = np.arange(data['Pixel'].min()-50,data['Pixel'].max()+50,10) # Make the pixels\n",
    "#display(c,polyval(p,c))\n",
    "plt.plot(p, polyval(p,c),'-r')\n",
    "plt.legend(['Measured','Fit'])\n",
    "plt.show()"
   ]
  },
  {
   "cell_type": "markdown",
   "metadata": {},
   "source": [
    "## Using the fit "
   ]
  },
  {
   "cell_type": "code",
   "execution_count": null,
   "metadata": {},
   "outputs": [],
   "source": [
    "px = [800] # Pixel position to evaluate\n",
    "display(polyval(px,c))"
   ]
  },
  {
   "cell_type": "markdown",
   "metadata": {},
   "source": [
    "## Plot the Neon with the fit"
   ]
  },
  {
   "cell_type": "code",
   "execution_count": null,
   "metadata": {},
   "outputs": [],
   "source": [
    "plot_spec(neo, row, c)"
   ]
  },
  {
   "cell_type": "markdown",
   "metadata": {},
   "source": [
    "## Hydrogen "
   ]
  },
  {
   "cell_type": "code",
   "execution_count": null,
   "metadata": {},
   "outputs": [],
   "source": [
    "hydro = plt.imread(\"Hydrogen.bmp\")\n",
    "plot_spec(hydro, row, c)"
   ]
  },
  {
   "cell_type": "markdown",
   "metadata": {},
   "source": [
    "## Unknown "
   ]
  },
  {
   "cell_type": "code",
   "execution_count": null,
   "metadata": {},
   "outputs": [],
   "source": [
    "un = plt.imread(\"Unknown.bmp\")\n",
    "plot_spec(un, row, c)"
   ]
  },
  {
   "cell_type": "markdown",
   "metadata": {},
   "source": []
  },
  {
   "cell_type": "code",
   "execution_count": null,
   "metadata": {},
   "outputs": [],
   "source": []
  }
 ],
 "metadata": {
  "kernelspec": {
   "display_name": "Python 3 (ipykernel)",
   "language": "python",
   "name": "python3"
  },
  "language_info": {
   "codemirror_mode": {
    "name": "ipython",
    "version": 3
   },
   "file_extension": ".py",
   "mimetype": "text/x-python",
   "name": "python",
   "nbconvert_exporter": "python",
   "pygments_lexer": "ipython3"
  }
 },
 "nbformat": 4,
 "nbformat_minor": 4
}
